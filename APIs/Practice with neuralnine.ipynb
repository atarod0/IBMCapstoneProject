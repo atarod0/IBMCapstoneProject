{
 "cells": [
  {
   "cell_type": "code",
   "execution_count": 33,
   "id": "f664e418-17ab-4d4a-9deb-94797e7e82af",
   "metadata": {},
   "outputs": [
    {
     "name": "stdout",
     "output_type": "stream",
     "text": [
      "{\n",
      "  \"user-agent\": \"HelloWorld/1.1\"\n",
      "}\n",
      "\n"
     ]
    }
   ],
   "source": [
    "import requests as r\n",
    "\n",
    "\n",
    "# payload = {\n",
    "#     \"name\": \"Mike\",\n",
    "#     \"age\" : 25\n",
    "# }\n",
    "\n",
    "headers = {\n",
    "    \"User-Agent\": \"HelloWorld/1.1\",\n",
    "    \"Accept\": \"image/png\"\n",
    "}\n",
    "\n",
    "\n",
    " \n",
    "\n",
    "response = r.get('https://httpbin.org/user-agent',\n",
    "                 timeout=3)\n",
    "\n",
    "\n",
    "print(response.text)"
   ]
  },
  {
   "cell_type": "code",
   "execution_count": 25,
   "id": "78289721-af24-4256-bb63-8c0faeaf21a7",
   "metadata": {},
   "outputs": [
    {
     "name": "stdout",
     "output_type": "stream",
     "text": [
      "505\n"
     ]
    }
   ],
   "source": [
    "if response.status_code == r.codes.not_found:\n",
    "    print(\"Not Found\")\n",
    "else:\n",
    "    print(response.status_code)"
   ]
  },
  {
   "cell_type": "code",
   "execution_count": 35,
   "id": "7be64ed7-da31-42b2-a91b-c4131fa1ee79",
   "metadata": {},
   "outputs": [],
   "source": [
    "with open(\"myimage.jpg\", 'wb') as f:\n",
    "    f.write(response.content)"
   ]
  },
  {
   "cell_type": "code",
   "execution_count": null,
   "id": "4e66f65a-4527-4209-b334-dc86cefaa683",
   "metadata": {},
   "outputs": [],
   "source": []
  }
 ],
 "metadata": {
  "kernelspec": {
   "display_name": "Python 3 (ipykernel)",
   "language": "python",
   "name": "python3"
  },
  "language_info": {
   "codemirror_mode": {
    "name": "ipython",
    "version": 3
   },
   "file_extension": ".py",
   "mimetype": "text/x-python",
   "name": "python",
   "nbconvert_exporter": "python",
   "pygments_lexer": "ipython3",
   "version": "3.11.7"
  }
 },
 "nbformat": 4,
 "nbformat_minor": 5
}
