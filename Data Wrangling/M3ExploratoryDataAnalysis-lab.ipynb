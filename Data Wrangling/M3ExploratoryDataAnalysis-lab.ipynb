{
 "cells": [
  {
   "cell_type": "markdown",
   "metadata": {},
   "source": [
    "<p style=\"text-align:center\">\n",
    "    <a href=\"https://skills.network/?utm_medium=Exinfluencer&utm_source=Exinfluencer&utm_content=000026UJ&utm_term=10006555&utm_id=NA-SkillsNetwork-Channel-SkillsNetworkCoursesIBMDA0321ENSkillsNetwork928-2023-01-01\">\n",
    "    <img src=\"https://cf-courses-data.s3.us.cloud-object-storage.appdomain.cloud/assets/logos/SN_web_lightmode.png\" width=\"200\" alt=\"Skills Network Logo\"  />\n",
    "    </a>\n",
    "</p>\n"
   ]
  },
  {
   "cell_type": "markdown",
   "metadata": {},
   "source": [
    "# **Exploratory Data Analysis Lab**\n"
   ]
  },
  {
   "cell_type": "markdown",
   "metadata": {},
   "source": [
    "Estimated time needed: **30** minutes\n"
   ]
  },
  {
   "cell_type": "markdown",
   "metadata": {},
   "source": [
    "In this module you get to work with the cleaned dataset from the previous module.\n",
    "\n",
    "In this assignment you will perform the task of exploratory data analysis.\n",
    "You will find out the distribution of data, presence of outliers and also determine the correlation between different columns in the dataset.\n"
   ]
  },
  {
   "cell_type": "markdown",
   "metadata": {},
   "source": [
    "## Objectives\n"
   ]
  },
  {
   "cell_type": "markdown",
   "metadata": {},
   "source": [
    "In this lab you will perform the following:\n"
   ]
  },
  {
   "cell_type": "markdown",
   "metadata": {},
   "source": [
    "-   Identify the distribution of data in the dataset.\n",
    "\n",
    "-   Identify outliers in the dataset.\n",
    "\n",
    "-   Remove outliers from the dataset.\n",
    "\n",
    "-   Identify correlation between features in the dataset.\n"
   ]
  },
  {
   "cell_type": "markdown",
   "metadata": {},
   "source": [
    "* * *\n"
   ]
  },
  {
   "cell_type": "markdown",
   "metadata": {},
   "source": [
    "## Hands on Lab\n"
   ]
  },
  {
   "cell_type": "markdown",
   "metadata": {},
   "source": [
    "Import the pandas module.\n"
   ]
  },
  {
   "cell_type": "code",
   "execution_count": 1,
   "metadata": {},
   "outputs": [],
   "source": [
    "import pandas as pd"
   ]
  },
  {
   "cell_type": "markdown",
   "metadata": {},
   "source": [
    "Load the dataset into a dataframe.\n"
   ]
  },
  {
   "cell_type": "code",
   "execution_count": 2,
   "metadata": {},
   "outputs": [],
   "source": [
    "df = pd.read_csv(\"https://cf-courses-data.s3.us.cloud-object-storage.appdomain.cloud/IBM-DA0321EN-SkillsNetwork/LargeData/m2_survey_data.csv\")"
   ]
  },
  {
   "cell_type": "markdown",
   "metadata": {},
   "source": [
    "## Distribution\n"
   ]
  },
  {
   "cell_type": "markdown",
   "metadata": {},
   "source": [
    "### Determine how the data is distributed\n"
   ]
  },
  {
   "cell_type": "markdown",
   "metadata": {},
   "source": [
    "The column `ConvertedComp` contains Salary converted to annual USD salaries using the exchange rate on 2019-02-01.\n",
    "\n",
    "This assumes 12 working months and 50 working weeks.\n"
   ]
  },
  {
   "cell_type": "markdown",
   "metadata": {},
   "source": [
    "Plot the distribution curve for the column `ConvertedComp`.\n"
   ]
  },
  {
   "cell_type": "code",
   "execution_count": 34,
   "metadata": {},
   "outputs": [
    {
     "data": {
      "text/plain": [
       "Index(['Respondent', 'MainBranch', 'Hobbyist', 'OpenSourcer', 'OpenSource',\n",
       "       'Employment', 'Country', 'Student', 'EdLevel', 'UndergradMajor',\n",
       "       'EduOther', 'OrgSize', 'DevType', 'YearsCode', 'Age1stCode',\n",
       "       'YearsCodePro', 'CareerSat', 'JobSat', 'MgrIdiot', 'MgrMoney',\n",
       "       'MgrWant', 'JobSeek', 'LastHireDate', 'LastInt', 'FizzBuzz',\n",
       "       'JobFactors', 'ResumeUpdate', 'CurrencySymbol', 'CurrencyDesc',\n",
       "       'CompTotal', 'CompFreq', 'ConvertedComp', 'WorkWeekHrs', 'WorkPlan',\n",
       "       'WorkChallenge', 'WorkRemote', 'WorkLoc', 'ImpSyn', 'CodeRev',\n",
       "       'CodeRevHrs', 'UnitTests', 'PurchaseHow', 'PurchaseWhat',\n",
       "       'LanguageWorkedWith', 'LanguageDesireNextYear', 'DatabaseWorkedWith',\n",
       "       'DatabaseDesireNextYear', 'PlatformWorkedWith',\n",
       "       'PlatformDesireNextYear', 'WebFrameWorkedWith',\n",
       "       'WebFrameDesireNextYear', 'MiscTechWorkedWith',\n",
       "       'MiscTechDesireNextYear', 'DevEnviron', 'OpSys', 'Containers',\n",
       "       'BlockchainOrg', 'BlockchainIs', 'BetterLife', 'ITperson', 'OffOn',\n",
       "       'SocialMedia', 'Extraversion', 'ScreenName', 'SOVisit1st',\n",
       "       'SOVisitFreq', 'SOVisitTo', 'SOFindAnswer', 'SOTimeSaved',\n",
       "       'SOHowMuchTime', 'SOAccount', 'SOPartFreq', 'SOJobs', 'EntTeams',\n",
       "       'SOComm', 'WelcomeChange', 'SONewContent', 'Age', 'Gender', 'Trans',\n",
       "       'Sexuality', 'Ethnicity', 'Dependents', 'SurveyLength', 'SurveyEase'],\n",
       "      dtype='object')"
      ]
     },
     "execution_count": 34,
     "metadata": {},
     "output_type": "execute_result"
    }
   ],
   "source": [
    "df.columns"
   ]
  },
  {
   "cell_type": "code",
   "execution_count": 23,
   "metadata": {},
   "outputs": [
    {
     "name": "stderr",
     "output_type": "stream",
     "text": [
      "/Users/samueladigun/Documents/anaconda3/lib/python3.11/site-packages/seaborn/_oldcore.py:1119: FutureWarning: use_inf_as_na option is deprecated and will be removed in a future version. Convert inf values to NaN before operating instead.\n",
      "  with pd.option_context('mode.use_inf_as_na', True):\n"
     ]
    },
    {
     "data": {
      "text/plain": [
       "Text(0, 0.5, 'Frequency')"
      ]
     },
     "execution_count": 23,
     "metadata": {},
     "output_type": "execute_result"
    },
    {
     "data": {
      "image/png": "[encoded data removed]",
      "text/plain": [
       "<Figure size 640x480 with 1 Axes>"
      ]
     },
     "metadata": {},
     "output_type": "display_data"
    }
   ],
   "source": [
    "# your code goes here\n",
    "import matplotlib.pyplot as plt \n",
    "import seaborn as sns \n",
    "\n",
    "\n",
    "# seaborn plot\n",
    "sns.kdeplot(df['ConvertedComp'])\n",
    "\n",
    "plt.title('Distribution of Compensation')\n",
    "plt.xlabel('Compensation (US$ Million)')\n",
    "plt.ylabel('Frequency')"
   ]
  },
  {
   "cell_type": "markdown",
   "metadata": {},
   "source": [
    "Plot the histogram for the column `ConvertedComp`.\n"
   ]
  },
  {
   "cell_type": "code",
   "execution_count": 27,
   "metadata": {},
   "outputs": [
    {
     "name": "stderr",
     "output_type": "stream",
     "text": [
      "/Users/samueladigun/Documents/anaconda3/lib/python3.11/site-packages/seaborn/_oldcore.py:1119: FutureWarning: use_inf_as_na option is deprecated and will be removed in a future version. Convert inf values to NaN before operating instead.\n",
      "  with pd.option_context('mode.use_inf_as_na', True):\n"
     ]
    },
    {
     "data": {
      "text/plain": [
       "Text(0, 0.5, 'Frequency')"
      ]
     },
     "execution_count": 27,
     "metadata": {},
     "output_type": "execute_result"
    },
    {
     "data": {
      "image/png": "[encoded data removed]",
      "text/plain": [
       "<Figure size 640x480 with 1 Axes>"
      ]
     },
     "metadata": {},
     "output_type": "display_data"
    }
   ],
   "source": [
    "# your code goes here\n",
    "# seaborn plot\n",
    "sns.histplot(df['ConvertedComp'], bins = 10)\n",
    "\n",
    "plt.title('Distribution of Compensation')\n",
    "plt.xlabel('Compensation Compensation (US$ Million)')\n",
    "plt.ylabel('Frequency')"
   ]
  },
  {
   "cell_type": "markdown",
   "metadata": {},
   "source": [
    "What is the median of the column `ConvertedComp`?\n"
   ]
  },
  {
   "cell_type": "code",
   "execution_count": 31,
   "metadata": {},
   "outputs": [
    {
     "data": {
      "text/plain": [
       "57745.0"
      ]
     },
     "execution_count": 31,
     "metadata": {},
     "output_type": "execute_result"
    }
   ],
   "source": [
    "# your code goes here\n",
    "df['ConvertedComp'].median()"
   ]
  },
  {
   "cell_type": "markdown",
   "metadata": {},
   "source": [
    "How many responders identified themselves only as a **Man**?\n"
   ]
  },
  {
   "cell_type": "code",
   "execution_count": 39,
   "metadata": {},
   "outputs": [
    {
     "name": "stdout",
     "output_type": "stream",
     "text": [
      "Males total: 10480\n"
     ]
    }
   ],
   "source": [
    "# your code goes here\n",
    "male = 0 \n",
    "\n",
    "# loop through the gender column and count males \n",
    "for g in df['Gender']:\n",
    "    if g == 'Man':\n",
    "        male += 1\n",
    "\n",
    "\n",
    "print(f'Males total: {male}')"
   ]
  },
  {
   "cell_type": "markdown",
   "metadata": {},
   "source": [
    "Find out the  median ConvertedComp of responders identified themselves only as a **Woman**?\n"
   ]
  },
  {
   "cell_type": "code",
   "execution_count": 41,
   "metadata": {},
   "outputs": [
    {
     "name": "stdout",
     "output_type": "stream",
     "text": [
      "Women median compensation: 57708.0\n"
     ]
    }
   ],
   "source": [
    "# your code goes here\n",
    "# made subset for women\n",
    "women_data = df[df['Gender'] == 'Woman']\n",
    "\n",
    "# median comoensation females \n",
    "w_median_comp = women_data['ConvertedComp'].median()\n",
    "\n",
    "print(f'Women median compensation: {w_median_comp}')"
   ]
  },
  {
   "cell_type": "markdown",
   "metadata": {},
   "source": [
    "Give the five number summary for the column `Age`?\n"
   ]
  },
  {
   "cell_type": "markdown",
   "metadata": {},
   "source": [
    "**Double click here for hint**.\n",
    "\n",
    "<!--\n",
    "min,q1,median,q3,max of a column are its five number summary.\n",
    "-->\n"
   ]
  },
  {
   "cell_type": "code",
   "execution_count": 44,
   "metadata": {},
   "outputs": [
    {
     "name": "stdout",
     "output_type": "stream",
     "text": [
      "Min Age: 16.0\n",
      "Q1 (25th percentile) Age: 25.0\n",
      "Median Age: 29.0\n",
      "Q3 (75th percentile) Age: 35.0\n",
      "Max Age: 99.0\n"
     ]
    }
   ],
   "source": [
    "# your code goes here\n",
    "min_age = df['Age'].min()\n",
    "q1_age = df['Age'].quantile(0.25)\n",
    "median__age = df['Age'].median()\n",
    "q3_age = df['Age'].quantile(0.75)\n",
    "max_age = df['Age'].max()\n",
    "\n",
    "print(f'Min Age: {min_age}')\n",
    "print(f'Q1 (25th percentile) Age: {q1_age}')\n",
    "print(f'Median Age: {median__age}')\n",
    "print(f'Q3 (75th percentile) Age: {q3_age}')\n",
    "print(f'Max Age: {max_age}')"
   ]
  },
  {
   "cell_type": "markdown",
   "metadata": {},
   "source": [
    "Plot a histogram of the column `Age`.\n"
   ]
  },
  {
   "cell_type": "code",
   "execution_count": 46,
   "metadata": {},
   "outputs": [
    {
     "name": "stderr",
     "output_type": "stream",
     "text": [
      "/Users/samueladigun/Documents/anaconda3/lib/python3.11/site-packages/seaborn/_oldcore.py:1119: FutureWarning: use_inf_as_na option is deprecated and will be removed in a future version. Convert inf values to NaN before operating instead.\n",
      "  with pd.option_context('mode.use_inf_as_na', True):\n"
     ]
    },
    {
     "data": {
      "text/plain": [
       "Text(0, 0.5, 'Frequency')"
      ]
     },
     "execution_count": 46,
     "metadata": {},
     "output_type": "execute_result"
    },
    {
     "data": {
      "image/png": "[encoded data removed]",
      "text/plain": [
       "<Figure size 640x480 with 1 Axes>"
      ]
     },
     "metadata": {},
     "output_type": "display_data"
    }
   ],
   "source": [
    "# your code goes here\n",
    "sns.histplot(df['Age'])\n",
    "\n",
    "plt.title('Distribution of Age')\n",
    "plt.xlabel('Age')\n",
    "plt.ylabel('Frequency')"
   ]
  },
  {
   "cell_type": "markdown",
   "metadata": {},
   "source": [
    "## Outliers\n"
   ]
  },
  {
   "cell_type": "markdown",
   "metadata": {},
   "source": [
    "### Finding outliers\n"
   ]
  },
  {
   "cell_type": "markdown",
   "metadata": {},
   "source": [
    "Find out if outliers exist in the column `ConvertedComp` using a box plot?\n"
   ]
  },
  {
   "cell_type": "code",
   "execution_count": 51,
   "metadata": {},
   "outputs": [
    {
     "data": {
      "text/plain": [
       "Text(0, 0.5, 'Compensation (US$ Million)')"
      ]
     },
     "execution_count": 51,
     "metadata": {},
     "output_type": "execute_result"
    },
    {
     "data": {
      "image/png": "[encoded data removed]",
      "text/plain": [
       "<Figure size 640x480 with 1 Axes>"
      ]
     },
     "metadata": {},
     "output_type": "display_data"
    }
   ],
   "source": [
    "# your code goes here\n",
    "comp = df['ConvertedComp'].dropna() # drop missing data points\n",
    "sns.boxplot(comp)\n",
    "\n",
    "plt.title('Boxplot of Compensation (Converted)')\n",
    "plt.ylabel('Compensation (US$ Million)')"
   ]
  },
  {
   "cell_type": "markdown",
   "metadata": {},
   "source": [
    "Find out the Inter Quartile Range for the column `ConvertedComp`.\n"
   ]
  },
  {
   "cell_type": "code",
   "execution_count": 54,
   "metadata": {},
   "outputs": [
    {
     "name": "stdout",
     "output_type": "stream",
     "text": [
      "The Interquartile range is 73132.0\n"
     ]
    }
   ],
   "source": [
    "# your code goes here\n",
    "comp_q1 = df['ConvertedComp'].quantile(0.25)\n",
    "comp_q3 = df['ConvertedComp'].quantile(0.75)\n",
    "IQR = comp_q3 - comp_q1\n",
    "\n",
    "print(f'The Interquartile range is {IQR}')"
   ]
  },
  {
   "cell_type": "markdown",
   "metadata": {},
   "source": [
    "Find out the upper and lower bounds.\n"
   ]
  },
  {
   "cell_type": "code",
   "execution_count": 63,
   "metadata": {},
   "outputs": [
    {
     "name": "stdout",
     "output_type": "stream",
     "text": [
      "The lower bound is 0.0 and the upper bound 2000000.0\n"
     ]
    }
   ],
   "source": [
    "# your code goes here\n",
    "lower_bound = df['ConvertedComp'].min()\n",
    "upper_bound = df['ConvertedComp'].max()\n",
    "\n",
    "\n",
    "print(f'The lower bound is {lower_bound} and the upper bound {upper_bound}')"
   ]
  },
  {
   "cell_type": "markdown",
   "metadata": {},
   "source": [
    "Identify how many outliers are there in the `ConvertedComp` column.\n"
   ]
  },
  {
   "cell_type": "code",
   "execution_count": 62,
   "metadata": {},
   "outputs": [
    {
     "name": "stdout",
     "output_type": "stream",
     "text": [
      "-82830.0 209698.0\n"
     ]
    }
   ],
   "source": [
    "lower_bound = comp_q1 - 1.5 * IQR\n",
    "upper_bound = comp_q3 + 1.5 * IQR\n",
    "\n",
    "print(lower_bound, upper_bound)"
   ]
  },
  {
   "cell_type": "code",
   "execution_count": 64,
   "metadata": {},
   "outputs": [
    {
     "name": "stdout",
     "output_type": "stream",
     "text": [
      "There are 879 outliers\n"
     ]
    }
   ],
   "source": [
    "# your code goes here\n",
    "lb = comp_q1 - 1.5 * IQR\n",
    "ub = comp_q3 + 1.5 * IQR\n",
    "\n",
    "outliers = 0\n",
    "\n",
    "for c in df['ConvertedComp']:\n",
    "    if c < lb or c > ub:\n",
    "        outliers += 1\n",
    "print(f'There are {outliers} outliers')"
   ]
  },
  {
   "cell_type": "markdown",
   "metadata": {},
   "source": [
    "Create a new dataframe by removing the outliers from the `ConvertedComp` column.\n"
   ]
  },
  {
   "cell_type": "code",
   "execution_count": 73,
   "metadata": {},
   "outputs": [
    {
     "name": "stdout",
     "output_type": "stream",
     "text": [
      "The current mean: 59883.20838915799 and previous mean: 131596.7316197316.\n"
     ]
    }
   ],
   "source": [
    "# your code goes here\n",
    "new_comp = df[(df['ConvertedComp'] >= lb) & (df['ConvertedComp'] <= ub)]\n",
    "\n",
    "current_mean = new_comp['ConvertedComp'].mean()\n",
    "previous_mean = df['ConvertedComp'].mean()\n",
    "\n",
    "print(f'The current mean: {current_mean} and previous mean: {previous_mean}.')"
   ]
  },
  {
   "cell_type": "markdown",
   "metadata": {},
   "source": [
    "## Correlation\n"
   ]
  },
  {
   "cell_type": "markdown",
   "metadata": {},
   "source": [
    "### Finding correlation\n"
   ]
  },
  {
   "cell_type": "markdown",
   "metadata": {},
   "source": [
    "Find the correlation between `Age` and all other numerical columns.\n"
   ]
  },
  {
   "cell_type": "code",
   "execution_count": 79,
   "metadata": {},
   "outputs": [
    {
     "name": "stdout",
     "output_type": "stream",
     "text": [
      "<class 'pandas.core.frame.DataFrame'>\n",
      "RangeIndex: 11398 entries, 0 to 11397\n",
      "Data columns (total 85 columns):\n",
      " #   Column                  Non-Null Count  Dtype  \n",
      "---  ------                  --------------  -----  \n",
      " 0   Respondent              11398 non-null  int64  \n",
      " 1   MainBranch              11398 non-null  object \n",
      " 2   Hobbyist                11398 non-null  object \n",
      " 3   OpenSourcer             11398 non-null  object \n",
      " 4   OpenSource              11317 non-null  object \n",
      " 5   Employment              11398 non-null  object \n",
      " 6   Country                 11398 non-null  object \n",
      " 7   Student                 11347 non-null  object \n",
      " 8   EdLevel                 11286 non-null  object \n",
      " 9   UndergradMajor          10661 non-null  object \n",
      " 10  EduOther                11234 non-null  object \n",
      " 11  OrgSize                 11302 non-null  object \n",
      " 12  DevType                 11333 non-null  object \n",
      " 13  YearsCode               11389 non-null  object \n",
      " 14  Age1stCode              11385 non-null  object \n",
      " 15  YearsCodePro            11382 non-null  object \n",
      " 16  CareerSat               11398 non-null  object \n",
      " 17  JobSat                  11397 non-null  object \n",
      " 18  MgrIdiot                10905 non-null  object \n",
      " 19  MgrMoney                10901 non-null  object \n",
      " 20  MgrWant                 10905 non-null  object \n",
      " 21  JobSeek                 11398 non-null  object \n",
      " 22  LastHireDate            11398 non-null  object \n",
      " 23  LastInt                 10985 non-null  object \n",
      " 24  FizzBuzz                11361 non-null  object \n",
      " 25  JobFactors              11395 non-null  object \n",
      " 26  ResumeUpdate            11359 non-null  object \n",
      " 27  CurrencySymbol          11398 non-null  object \n",
      " 28  CurrencyDesc            11398 non-null  object \n",
      " 29  CompTotal               10589 non-null  float64\n",
      " 30  CompFreq                11192 non-null  object \n",
      " 31  ConvertedComp           10582 non-null  float64\n",
      " 32  WorkWeekHrs             11276 non-null  float64\n",
      " 33  WorkPlan                11277 non-null  object \n",
      " 34  WorkChallenge           11234 non-null  object \n",
      " 35  WorkRemote              11390 non-null  object \n",
      " 36  WorkLoc                 11366 non-null  object \n",
      " 37  ImpSyn                  11393 non-null  object \n",
      " 38  CodeRev                 11397 non-null  object \n",
      " 39  CodeRevHrs              8972 non-null   float64\n",
      " 40  UnitTests               11369 non-null  object \n",
      " 41  PurchaseHow             11202 non-null  object \n",
      " 42  PurchaseWhat            11360 non-null  object \n",
      " 43  LanguageWorkedWith      11387 non-null  object \n",
      " 44  LanguageDesireNextYear  11264 non-null  object \n",
      " 45  DatabaseWorkedWith      10945 non-null  object \n",
      " 46  DatabaseDesireNextYear  10356 non-null  object \n",
      " 47  PlatformWorkedWith      10987 non-null  object \n",
      " 48  PlatformDesireNextYear  10854 non-null  object \n",
      " 49  WebFrameWorkedWith      10005 non-null  object \n",
      " 50  WebFrameDesireNextYear  9781 non-null   object \n",
      " 51  MiscTechWorkedWith      9216 non-null   object \n",
      " 52  MiscTechDesireNextYear  9943 non-null   object \n",
      " 53  DevEnviron              11369 non-null  object \n",
      " 54  OpSys                   11364 non-null  object \n",
      " 55  Containers              11316 non-null  object \n",
      " 56  BlockchainOrg           9076 non-null   object \n",
      " 57  BlockchainIs            8788 non-null   object \n",
      " 58  BetterLife              11300 non-null  object \n",
      " 59  ITperson                11363 non-null  object \n",
      " 60  OffOn                   11360 non-null  object \n",
      " 61  SocialMedia             11105 non-null  object \n",
      " 62  Extraversion            11378 non-null  object \n",
      " 63  ScreenName              10891 non-null  object \n",
      " 64  SOVisit1st              11073 non-null  object \n",
      " 65  SOVisitFreq             11393 non-null  object \n",
      " 66  SOVisitTo               11397 non-null  object \n",
      " 67  SOFindAnswer            11395 non-null  object \n",
      " 68  SOTimeSaved             11348 non-null  object \n",
      " 69  SOHowMuchTime           9481 non-null   object \n",
      " 70  SOAccount               11397 non-null  object \n",
      " 71  SOPartFreq              10270 non-null  object \n",
      " 72  SOJobs                  11392 non-null  object \n",
      " 73  EntTeams                11393 non-null  object \n",
      " 74  SOComm                  11398 non-null  object \n",
      " 75  WelcomeChange           11313 non-null  object \n",
      " 76  SONewContent            9433 non-null   object \n",
      " 77  Age                     11111 non-null  float64\n",
      " 78  Gender                  11325 non-null  object \n",
      " 79  Trans                   11275 non-null  object \n",
      " 80  Sexuality               10856 non-null  object \n",
      " 81  Ethnicity               10723 non-null  object \n",
      " 82  Dependents              11258 non-null  object \n",
      " 83  SurveyLength            11379 non-null  object \n",
      " 84  SurveyEase              11384 non-null  object \n",
      "dtypes: float64(5), int64(1), object(79)\n",
      "memory usage: 7.4+ MB\n",
      "None\n"
     ]
    }
   ],
   "source": [
    "print(df.info())"
   ]
  },
  {
   "cell_type": "code",
   "execution_count": 85,
   "metadata": {},
   "outputs": [
    {
     "data": {
      "text/plain": [
       "Age              1.000000\n",
       "Respondent       0.004041\n",
       "CompTotal        0.006970\n",
       "ConvertedComp    0.105386\n",
       "WorkWeekHrs      0.036518\n",
       "CodeRevHrs      -0.020469\n",
       "Name: Age, dtype: float64"
      ]
     },
     "execution_count": 85,
     "metadata": {},
     "output_type": "execute_result"
    }
   ],
   "source": [
    "# your code goes here\n",
    "numerical_columns = df[['Age', 'Respondent', 'CompTotal', 'ConvertedComp', 'WorkWeekHrs', 'CodeRevHrs']]\n",
    "\n",
    "numerical_columns.corr()['Age']"
   ]
  },
  {
   "cell_type": "markdown",
   "metadata": {},
   "source": [
    "## Authors\n"
   ]
  },
  {
   "cell_type": "markdown",
   "metadata": {},
   "source": [
    "Ramesh Sannareddy\n"
   ]
  },
  {
   "cell_type": "markdown",
   "metadata": {},
   "source": [
    "### Other Contributors\n"
   ]
  },
  {
   "cell_type": "markdown",
   "metadata": {},
   "source": [
    "Rav Ahuja\n"
   ]
  },
  {
   "cell_type": "markdown",
   "metadata": {},
   "source": [
    "## Change Log\n"
   ]
  },
  {
   "cell_type": "markdown",
   "metadata": {},
   "source": [
    "| Date (YYYY-MM-DD) | Version | Changed By        | Change Description                 |\n",
    "| ----------------- | ------- | ----------------- | ---------------------------------- |\n",
    "| 2020-10-17        | 0.1     | Ramesh Sannareddy | Created initial version of the lab |\n"
   ]
  },
  {
   "cell_type": "markdown",
   "metadata": {},
   "source": [
    " Copyright © 2020 IBM Corporation. This notebook and its source code are released under the terms of the [MIT License](https://cognitiveclass.ai/mit-license?utm_medium=Exinfluencer&utm_source=Exinfluencer&utm_content=000026UJ&utm_term=10006555&utm_id=NA-SkillsNetwork-Channel-SkillsNetworkCoursesIBMDA0321ENSkillsNetwork928-2023-01-01&cm_mmc=Email_Newsletter-_-Developer_Ed%2BTech-_-WW_WW-_-SkillsNetwork-Courses-IBM-DA0321EN-SkillsNetwork-21426264&cm_mmca1=000026UJ&cm_mmca2=10006555&cm_mmca3=M12345678&cvosrc=email.Newsletter.M12345678&cvo_campaign=000026UJ).\n"
   ]
  }
 ],
 "metadata": {
  "kernelspec": {
   "display_name": "Python 3 (ipykernel)",
   "language": "python",
   "name": "python3"
  },
  "language_info": {
   "codemirror_mode": {
    "name": "ipython",
    "version": 3
   },
   "file_extension": ".py",
   "mimetype": "text/x-python",
   "name": "python",
   "nbconvert_exporter": "python",
   "pygments_lexer": "ipython3",
   "version": "3.11.7"
  }
 },
 "nbformat": 4,
 "nbformat_minor": 4
}
